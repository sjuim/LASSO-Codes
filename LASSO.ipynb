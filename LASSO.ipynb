{
 "cells": [
  {
   "cell_type": "code",
   "execution_count": 2,
   "metadata": {},
   "outputs": [],
   "source": [
    "import numpy as np\n",
    "import random\n",
    "import sys"
   ]
  },
  {
   "cell_type": "code",
   "execution_count": 32,
   "metadata": {},
   "outputs": [],
   "source": [
    "#Let X be an n x p matrix of data and y be and n-D vector\n",
    "n = 100\n",
    "p = 10\n",
    "X = np.zeros((n, p))\n",
    "y = np.ones(n)"
   ]
  },
  {
   "cell_type": "code",
   "execution_count": 45,
   "metadata": {},
   "outputs": [],
   "source": [
    "#Define the mean vector (all zeros)\n",
    "mean = np.zeros(p)\n",
    "mean2 = np.zeros(n)\n",
    "\n",
    "# Define the covariance matrix (identity matrix)\n",
    "covariance = np.identity(p)\n",
    "covariance2 = np.identity(n)\n",
    "\n",
    "# Generate a sample from the multivariate normal distribution\n",
    "X = np.random.multivariate_normal(mean, covariance, size=n)\n",
    "err = np.random.normal(0, 1, size=(n))\n",
    "beta = np.zeros(p)\n",
    "beta[0] = 2\n",
    "beta[1] = 5\n",
    "\n",
    "# print(X.shape)\n",
    "# print(beta.shape) # should be p\n",
    "# print(err.shape)\n",
    "y = X @ beta # + err"
   ]
  },
  {
   "cell_type": "code",
   "execution_count": 34,
   "metadata": {},
   "outputs": [],
   "source": [
    "#set your regularization parameter >= 0\n",
    "lmbda = 0.5"
   ]
  },
  {
   "cell_type": "code",
   "execution_count": 5,
   "metadata": {},
   "outputs": [],
   "source": [
    "#expression to minimize (print)\n",
    "beta = np.zeros(p)\n",
    "expr = 0.5 / n * np.linalg.norm(y - np.matmul(X, beta))**2 + lmbda * np.linalg.norm(beta, ord = 1)"
   ]
  },
  {
   "cell_type": "markdown",
   "metadata": {},
   "source": [
    "KKT Conditions to find the minimum"
   ]
  },
  {
   "cell_type": "code",
   "execution_count": 6,
   "metadata": {},
   "outputs": [],
   "source": [
    "#subgradient\n",
    "def s(beta, j):\n",
    "  if beta[j] != 0:\n",
    "    return np.sign(beta[j])\n",
    "  return (2 * random.random() - 1) #is this right? how to we do calculations with the subgradient?"
   ]
  },
  {
   "cell_type": "code",
   "execution_count": 7,
   "metadata": {},
   "outputs": [],
   "source": [
    "#equations (print)\n",
    "for j in range(n):\n",
    "  -1/n * np.dot(X[:,j], y - np.matmul(X, beta)) + lmbda * s(beta, j)"
   ]
  },
  {
   "cell_type": "markdown",
   "metadata": {},
   "source": [
    "Calculate solutions using closed form"
   ]
  },
  {
   "cell_type": "code",
   "execution_count": 8,
   "metadata": {},
   "outputs": [],
   "source": [
    "#soft-thresholding function\n",
    "#y, z are N-d vectors\n",
    "def soft_threshold(y, z, lmbda):\n",
    "  N = y.shape\n",
    "\n",
    "  val = (y @ z) / N\n",
    "\n",
    "  if val > lmbda:\n",
    "    return (val - lmbda)\n",
    "  elif val < -lmbda:\n",
    "    return (val + lmbda)\n",
    "  return 0\n"
   ]
  },
  {
   "cell_type": "code",
   "execution_count": 9,
   "metadata": {},
   "outputs": [],
   "source": [
    "#x, y are N-d vectors\n",
    "def LASSO_one_pred(y, x, lmbda):\n",
    "  return soft_threshold(y, x, lmbda)"
   ]
  },
  {
   "cell_type": "code",
   "execution_count": 46,
   "metadata": {},
   "outputs": [],
   "source": [
    "#y is N-d vectors\n",
    "#X is N x k matrix\n",
    "def LASSO_multi_pred(y, X, lmbda):\n",
    "  #get data set dimensions\n",
    "  N, K = X.shape\n",
    "\n",
    "  # use single predictor soft thresholding if one predictor only\n",
    "  if K == 1:\n",
    "    LASSO_one_pred(y, X, lmbda)\n",
    "\n",
    "  # multiple predictors coordinate descent\n",
    "  beta_hat = np.zeros(K)\n",
    "  beta_prev = np.zeros(K)\n",
    "  dif = 10000000000\n",
    "  iter = 0\n",
    "\n",
    "  # deal with starting dist how?\n",
    "  while dif > 1e-6:\n",
    "    for j in range(K):\n",
    "      rj = np.zeros(N) #partial residual\n",
    "      for i in range(N):\n",
    "        #rj[i] = y_i - sum_{k != j} x_ik * beta_hat_k\n",
    "        sum = np.dot(X[i], beta_hat) # sum_{k = 1}^K x_ik * beta_hat_k\n",
    "        rj[i] = y[i] - sum + X[i,j] * beta_hat[j]\n",
    "\n",
    "      beta_hat[j] = soft_threshold(rj, X[:,j], lmbda) # update\n",
    "\n",
    "    # check the stopping point\n",
    "    # only check whether or not to stop once all coordinates have been updated\n",
    "    dif = np.linalg.norm(beta_hat - beta_prev, ord = 1) #l1 norm\n",
    "    beta_prev = beta_hat\n",
    "    iter += 1\n",
    "\n",
    "  return beta_hat, iter"
   ]
  },
  {
   "cell_type": "code",
   "execution_count": 47,
   "metadata": {},
   "outputs": [
    {
     "name": "stdout",
     "output_type": "stream",
     "text": [
      "[1.26536727 5.00003622 0.         0.         0.         0.\n",
      " 0.         0.         0.         0.        ]\n",
      "2\n"
     ]
    },
    {
     "name": "stderr",
     "output_type": "stream",
     "text": [
      "/var/folders/j4/hm50bg4n6vv8hhf19l5sjhsr0000gr/T/ipykernel_48188/753243011.py:26: DeprecationWarning: Conversion of an array with ndim > 0 to a scalar is deprecated, and will error in future. Ensure you extract a single element from your array before performing this operation. (Deprecated NumPy 1.25.)\n",
      "  beta_hat[j] = soft_threshold(rj, X[:,j], lmbda) # update\n"
     ]
    }
   ],
   "source": [
    "beta_hat, iter = LASSO_multi_pred(y, X, lmbda)\n",
    "print(beta_hat)\n",
    "print(iter)"
   ]
  },
  {
   "cell_type": "code",
   "execution_count": 48,
   "metadata": {},
   "outputs": [
    {
     "name": "stdout",
     "output_type": "stream",
     "text": [
      "Slope: 2.00\n",
      "Intercept: -0.00\n"
     ]
    }
   ],
   "source": [
    "from sklearn.linear_model import LinearRegression\n",
    "model = LinearRegression()\n",
    "\n",
    "# Fit the model to the data\n",
    "model.fit(X, y)\n",
    "\n",
    "# Get the slope (coefficient) and intercept\n",
    "slope = model.coef_[0]\n",
    "intercept = model.intercept_\n",
    "\n",
    "print(f\"Slope: {slope:.2f}\")\n",
    "print(f\"Intercept: {intercept:.2f}\")"
   ]
  },
  {
   "cell_type": "code",
   "execution_count": 49,
   "metadata": {},
   "outputs": [
    {
     "data": {
      "text/plain": [
       "array([ 2.00000000e+00,  5.00000000e+00,  1.05471187e-15,  1.33226763e-15,\n",
       "        7.77156117e-16,  1.33226763e-15, -1.57512892e-15, -2.66453526e-15,\n",
       "       -3.27515792e-15, -2.16493490e-15])"
      ]
     },
     "execution_count": 49,
     "metadata": {},
     "output_type": "execute_result"
    }
   ],
   "source": [
    "model.coef_"
   ]
  },
  {
   "cell_type": "markdown",
   "metadata": {},
   "source": []
  }
 ],
 "metadata": {
  "kernelspec": {
   "display_name": "Python 3",
   "language": "python",
   "name": "python3"
  },
  "language_info": {
   "codemirror_mode": {
    "name": "ipython",
    "version": 3
   },
   "file_extension": ".py",
   "mimetype": "text/x-python",
   "name": "python",
   "nbconvert_exporter": "python",
   "pygments_lexer": "ipython3",
   "version": "3.11.7"
  },
  "orig_nbformat": 4
 },
 "nbformat": 4,
 "nbformat_minor": 2
}
